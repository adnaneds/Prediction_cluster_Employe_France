{
 "cells": [
  {
   "cell_type": "markdown",
   "metadata": {},
   "source": [
    "# Part I : Quel(le) data scientist êtes-vous ?\n",
    "## Contexte de l’analyse\n",
    "\n",
    "Elu métier le plus sexy par la Harvard Business Review en octobre 2012, le data scientist représente un profil rare qui exige de nombreuses compétences.\n",
    "\n",
    "A partir d'un dataset Aquila, vous réaliserez :\n",
    "- un clustering non supervisé afin d'identifier 2 groupes de profils techniques distinctes\n",
    "- une prédiction des profils dont le métier n'est pas labellisé\n",
    "\n",
    "\n",
    "## Données\n",
    "data.csv contient 6 variables : \n",
    "    - 'Entreprise' correspond à une liste d'entreprises fictive\n",
    "    - 'Metier' correspond au métier parmi data scientist, lead data scientist, data engineer et data architecte\n",
    "    - 'Technologies' correspond aux compétences maîtrisées par le profil\n",
    "    - 'Diplome' correspond à son niveau scolaire (Bac, Master, PhD,...)\n",
    "    - 'Experience' correspond au nombre d'années d'expériences\n",
    "    - 'Ville' correspond au lieu de travail\n",
    "    \n",
    "\n",
    "\n",
    "## Répondez aux questions \n",
    "\n",
    "Bonne chance!"
   ]
  },
  {
   "cell_type": "code",
   "execution_count": 1,
   "metadata": {},
   "outputs": [],
   "source": [
    "# Import des libraries classique (numpy, pandas, ...)\n",
    "import pandas as pd\n",
    "import numpy as np\n",
    "import re\n",
    "import sklearn as sk\n",
    "import seaborn as sb\n",
    "from matplotlib import pyplot as plt\n",
    "plt.style.use('ggplot')"
   ]
  },
  {
   "cell_type": "markdown",
   "metadata": {},
   "source": [
    "### 1) Importer le tableau de données dans un dataframe "
   ]
  },
  {
   "cell_type": "markdown",
   "metadata": {},
   "source": [
    "### Réponse :"
   ]
  },
  {
   "cell_type": "code",
   "execution_count": 2,
   "metadata": {},
   "outputs": [],
   "source": [
    "# Import du dataframe \"data.csv\"\n",
    "df = pd.read_csv(\"data.csv\")"
   ]
  },
  {
   "cell_type": "code",
   "execution_count": 3,
   "metadata": {},
   "outputs": [
    {
     "data": {
      "text/html": [
       "<div>\n",
       "<style scoped>\n",
       "    .dataframe tbody tr th:only-of-type {\n",
       "        vertical-align: middle;\n",
       "    }\n",
       "\n",
       "    .dataframe tbody tr th {\n",
       "        vertical-align: top;\n",
       "    }\n",
       "\n",
       "    .dataframe thead th {\n",
       "        text-align: right;\n",
       "    }\n",
       "</style>\n",
       "<table border=\"1\" class=\"dataframe\">\n",
       "  <thead>\n",
       "    <tr style=\"text-align: right;\">\n",
       "      <th></th>\n",
       "      <th>Entreprise</th>\n",
       "      <th>Metier</th>\n",
       "      <th>Technologies</th>\n",
       "      <th>Diplome</th>\n",
       "      <th>Experience</th>\n",
       "      <th>Ville</th>\n",
       "    </tr>\n",
       "  </thead>\n",
       "  <tbody>\n",
       "    <tr>\n",
       "      <th>0</th>\n",
       "      <td>Sanofi</td>\n",
       "      <td>Data scientist</td>\n",
       "      <td>Matlab/Python/Pyspark/Scikit-learn/Tensorflow</td>\n",
       "      <td>Master</td>\n",
       "      <td>1</td>\n",
       "      <td>Paris</td>\n",
       "    </tr>\n",
       "    <tr>\n",
       "      <th>1</th>\n",
       "      <td>Massachusetts General Hospital(MGH)</td>\n",
       "      <td>Data architecte</td>\n",
       "      <td>Python/Java/Scala/MongoDB</td>\n",
       "      <td>Master</td>\n",
       "      <td>3</td>\n",
       "      <td>Marseille</td>\n",
       "    </tr>\n",
       "    <tr>\n",
       "      <th>2</th>\n",
       "      <td>Delve</td>\n",
       "      <td>Lead data scientist</td>\n",
       "      <td>SPSS/SQL/Teradata/R/Python/Tensorflow/scikit-l...</td>\n",
       "      <td>Master</td>\n",
       "      <td>3</td>\n",
       "      <td>Nantes</td>\n",
       "    </tr>\n",
       "    <tr>\n",
       "      <th>3</th>\n",
       "      <td>Ann &amp; Robert H. Lurie Children’s Hospital of C...</td>\n",
       "      <td>Data scientist</td>\n",
       "      <td>C/C++/Java/Python</td>\n",
       "      <td>Master</td>\n",
       "      <td>1,5</td>\n",
       "      <td>Marseille</td>\n",
       "    </tr>\n",
       "    <tr>\n",
       "      <th>4</th>\n",
       "      <td>Arm</td>\n",
       "      <td>Data scientist</td>\n",
       "      <td>Matlab/Python/C++/numpy/Tensorflow/scikit-learn</td>\n",
       "      <td>Phd</td>\n",
       "      <td>NaN</td>\n",
       "      <td>Bordeaux</td>\n",
       "    </tr>\n",
       "  </tbody>\n",
       "</table>\n",
       "</div>"
      ],
      "text/plain": [
       "                                          Entreprise               Metier  \\\n",
       "0                                             Sanofi       Data scientist   \n",
       "1                Massachusetts General Hospital(MGH)      Data architecte   \n",
       "2                                              Delve  Lead data scientist   \n",
       "3  Ann & Robert H. Lurie Children’s Hospital of C...       Data scientist   \n",
       "4                                                Arm       Data scientist   \n",
       "\n",
       "                                        Technologies Diplome Experience  \\\n",
       "0      Matlab/Python/Pyspark/Scikit-learn/Tensorflow  Master          1   \n",
       "1                          Python/Java/Scala/MongoDB  Master          3   \n",
       "2  SPSS/SQL/Teradata/R/Python/Tensorflow/scikit-l...  Master          3   \n",
       "3                                  C/C++/Java/Python  Master        1,5   \n",
       "4    Matlab/Python/C++/numpy/Tensorflow/scikit-learn     Phd        NaN   \n",
       "\n",
       "       Ville  \n",
       "0      Paris  \n",
       "1  Marseille  \n",
       "2     Nantes  \n",
       "3  Marseille  \n",
       "4   Bordeaux  "
      ]
     },
     "execution_count": 3,
     "metadata": {},
     "output_type": "execute_result"
    }
   ],
   "source": [
    "# Verfication de l'importation des données\n",
    "df.head()"
   ]
  },
  {
   "cell_type": "code",
   "execution_count": 4,
   "metadata": {},
   "outputs": [
    {
     "data": {
      "text/html": [
       "<div>\n",
       "<style scoped>\n",
       "    .dataframe tbody tr th:only-of-type {\n",
       "        vertical-align: middle;\n",
       "    }\n",
       "\n",
       "    .dataframe tbody tr th {\n",
       "        vertical-align: top;\n",
       "    }\n",
       "\n",
       "    .dataframe thead th {\n",
       "        text-align: right;\n",
       "    }\n",
       "</style>\n",
       "<table border=\"1\" class=\"dataframe\">\n",
       "  <thead>\n",
       "    <tr style=\"text-align: right;\">\n",
       "      <th></th>\n",
       "      <th>Entreprise</th>\n",
       "      <th>Metier</th>\n",
       "      <th>Technologies</th>\n",
       "      <th>Diplome</th>\n",
       "      <th>Experience</th>\n",
       "      <th>Ville</th>\n",
       "    </tr>\n",
       "  </thead>\n",
       "  <tbody>\n",
       "    <tr>\n",
       "      <th>count</th>\n",
       "      <td>9565</td>\n",
       "      <td>9563</td>\n",
       "      <td>9582</td>\n",
       "      <td>9582</td>\n",
       "      <td>9488</td>\n",
       "      <td>9582</td>\n",
       "    </tr>\n",
       "    <tr>\n",
       "      <th>unique</th>\n",
       "      <td>1382</td>\n",
       "      <td>4</td>\n",
       "      <td>57</td>\n",
       "      <td>4</td>\n",
       "      <td>21</td>\n",
       "      <td>14</td>\n",
       "    </tr>\n",
       "    <tr>\n",
       "      <th>top</th>\n",
       "      <td>Ball Aerospace</td>\n",
       "      <td>Data scientist</td>\n",
       "      <td>SQL/R/Python//Big data</td>\n",
       "      <td>Master</td>\n",
       "      <td>1,5</td>\n",
       "      <td>Paris</td>\n",
       "    </tr>\n",
       "    <tr>\n",
       "      <th>freq</th>\n",
       "      <td>748</td>\n",
       "      <td>3865</td>\n",
       "      <td>539</td>\n",
       "      <td>4971</td>\n",
       "      <td>1023</td>\n",
       "      <td>2015</td>\n",
       "    </tr>\n",
       "  </tbody>\n",
       "</table>\n",
       "</div>"
      ],
      "text/plain": [
       "            Entreprise          Metier            Technologies Diplome  \\\n",
       "count             9565            9563                    9582    9582   \n",
       "unique            1382               4                      57       4   \n",
       "top     Ball Aerospace  Data scientist  SQL/R/Python//Big data  Master   \n",
       "freq               748            3865                     539    4971   \n",
       "\n",
       "       Experience  Ville  \n",
       "count        9488   9582  \n",
       "unique         21     14  \n",
       "top           1,5  Paris  \n",
       "freq         1023   2015  "
      ]
     },
     "execution_count": 4,
     "metadata": {},
     "output_type": "execute_result"
    }
   ],
   "source": [
    "# Statistiques rapide\n",
    "df.describe()"
   ]
  },
  {
   "cell_type": "markdown",
   "metadata": {},
   "source": [
    "### 2) Combien y a t-il d'observations dans ce dataset? Y a t-il des valeurs manquantes? "
   ]
  },
  {
   "cell_type": "markdown",
   "metadata": {},
   "source": [
    "### Réponse :"
   ]
  },
  {
   "cell_type": "code",
   "execution_count": 5,
   "metadata": {},
   "outputs": [
    {
     "name": "stdout",
     "output_type": "stream",
     "text": [
      "Nous avons 9582 observations\n"
     ]
    }
   ],
   "source": [
    "# Dimension du Dataframe\n",
    "shape = df.shape\n",
    "\n",
    "print(f\"Nous avons {shape[0]} observations\")"
   ]
  },
  {
   "cell_type": "code",
   "execution_count": 6,
   "metadata": {},
   "outputs": [
    {
     "name": "stdout",
     "output_type": "stream",
     "text": [
      "Nombres des valeurs manquantes présentes : \n",
      "Entreprise      17\n",
      "Metier          19\n",
      "Technologies     0\n",
      "Diplome          0\n",
      "Experience      94\n",
      "Ville            0\n",
      "dtype: int64\n"
     ]
    }
   ],
   "source": [
    "# Compter les valeurs manquantes\n",
    "count_nan = df.isnull().sum()\n",
    "\n",
    "print('Nombres des valeurs manquantes présentes : \\n' + str(count_nan))"
   ]
  },
  {
   "cell_type": "code",
   "execution_count": 7,
   "metadata": {},
   "outputs": [
    {
     "name": "stdout",
     "output_type": "stream",
     "text": [
      "Le nombre total des valeurs manquantes est : 130\n"
     ]
    }
   ],
   "source": [
    "# Nombre total des valeurs manquantes  \n",
    "# count_nan.sum()\n",
    "\n",
    "print(\"Le nombre total des valeurs manquantes est :\"  , count_nan.sum())"
   ]
  },
  {
   "cell_type": "code",
   "execution_count": null,
   "metadata": {},
   "outputs": [],
   "source": []
  },
  {
   "cell_type": "markdown",
   "metadata": {},
   "source": [
    "### 3) Réaliser l'imputation des valeurs manquantes pour la variable \"Experience\" avec : \n",
    "- la valeur médiane pour les data scientists\n",
    "- la valeur moyenne pour les data engineers"
   ]
  },
  {
   "cell_type": "markdown",
   "metadata": {},
   "source": [
    "### Réponse :"
   ]
  },
  {
   "cell_type": "code",
   "execution_count": 8,
   "metadata": {},
   "outputs": [
    {
     "name": "stdout",
     "output_type": "stream",
     "text": [
      "<class 'pandas.core.frame.DataFrame'>\n",
      "RangeIndex: 9582 entries, 0 to 9581\n",
      "Data columns (total 6 columns):\n",
      " #   Column        Non-Null Count  Dtype \n",
      "---  ------        --------------  ----- \n",
      " 0   Entreprise    9565 non-null   object\n",
      " 1   Metier        9563 non-null   object\n",
      " 2   Technologies  9582 non-null   object\n",
      " 3   Diplome       9582 non-null   object\n",
      " 4   Experience    9488 non-null   object\n",
      " 5   Ville         9582 non-null   object\n",
      "dtypes: object(6)\n",
      "memory usage: 449.3+ KB\n"
     ]
    }
   ],
   "source": [
    "# information sur le dataframe\n",
    "df.info()"
   ]
  },
  {
   "cell_type": "code",
   "execution_count": 9,
   "metadata": {
    "scrolled": true
   },
   "outputs": [
    {
     "data": {
      "text/plain": [
       "Entreprise      1382\n",
       "Metier             4\n",
       "Technologies      57\n",
       "Diplome            4\n",
       "Experience        21\n",
       "Ville             14\n",
       "dtype: int64"
      ]
     },
     "execution_count": 9,
     "metadata": {},
     "output_type": "execute_result"
    }
   ],
   "source": [
    "# information complémentaire \n",
    "df.nunique(axis=0)"
   ]
  },
  {
   "cell_type": "code",
   "execution_count": 115,
   "metadata": {},
   "outputs": [
    {
     "name": "stdout",
     "output_type": "stream",
     "text": [
      "Les metiers qui existent sont :\n",
      "['Data scientist' 'Data architecte' 'Lead data scientist' 'Data engineer'\n",
      " nan]\n"
     ]
    }
   ],
   "source": [
    "print(\"Les metiers qui existent sont :\")\n",
    "print(df['Metier'].unique())"
   ]
  },
  {
   "cell_type": "code",
   "execution_count": 117,
   "metadata": {},
   "outputs": [
    {
     "name": "stdout",
     "output_type": "stream",
     "text": [
      "Le nombre de profil pour chaque métier \n",
      "Data scientist         3865\n",
      "Data engineer          2347\n",
      "Data architecte        2123\n",
      "Lead data scientist    1228\n",
      "Name: Metier, dtype: int64\n"
     ]
    }
   ],
   "source": [
    "print(\"Le nombre de profil pour chaque métier :\")\n",
    "\n",
    "print(df['Metier'].value_counts())"
   ]
  },
  {
   "cell_type": "code",
   "execution_count": 119,
   "metadata": {},
   "outputs": [
    {
     "data": {
      "text/plain": [
       "0    1.000000\n",
       "1    3.000000\n",
       "2    3.000000\n",
       "3    1.500000\n",
       "4    2.243282\n",
       "Name: Experience, dtype: float64"
      ]
     },
     "execution_count": 119,
     "metadata": {},
     "output_type": "execute_result"
    }
   ],
   "source": [
    "# Affichage de la variable Expérience\n",
    "\n",
    "df.Experience.head()"
   ]
  },
  {
   "cell_type": "markdown",
   "metadata": {},
   "source": [
    "- Nous pouvons remarquer que le type des valeurs dans la colonne Experience, sont de type str , et cela necessite une conversion en float, en changeant aussi en amont la virgule en point."
   ]
  },
  {
   "cell_type": "code",
   "execution_count": 13,
   "metadata": {
    "scrolled": true
   },
   "outputs": [],
   "source": [
    "# nettoyage de la variable Expérience \n",
    "df['Experience'] = df['Experience'].str.replace(',' , '.') \n",
    "# df['Experience'] = df['Experience'].apply(lambda x: x.replace(\",\" , \".\"))\n",
    "\n",
    "# Conversion en float \n",
    "df['Experience'] = df['Experience'].astype(float)"
   ]
  },
  {
   "cell_type": "code",
   "execution_count": 121,
   "metadata": {},
   "outputs": [
    {
     "name": "stdout",
     "output_type": "stream",
     "text": [
      "Data frame après  netoyage et conversion de la varibale Entreprise\n"
     ]
    },
    {
     "data": {
      "text/html": [
       "<div>\n",
       "<style scoped>\n",
       "    .dataframe tbody tr th:only-of-type {\n",
       "        vertical-align: middle;\n",
       "    }\n",
       "\n",
       "    .dataframe tbody tr th {\n",
       "        vertical-align: top;\n",
       "    }\n",
       "\n",
       "    .dataframe thead th {\n",
       "        text-align: right;\n",
       "    }\n",
       "</style>\n",
       "<table border=\"1\" class=\"dataframe\">\n",
       "  <thead>\n",
       "    <tr style=\"text-align: right;\">\n",
       "      <th></th>\n",
       "      <th>Entreprise</th>\n",
       "      <th>Metier</th>\n",
       "      <th>Technologies</th>\n",
       "      <th>Diplome</th>\n",
       "      <th>Experience</th>\n",
       "      <th>Ville</th>\n",
       "      <th>Exp_label</th>\n",
       "    </tr>\n",
       "  </thead>\n",
       "  <tbody>\n",
       "    <tr>\n",
       "      <th>0</th>\n",
       "      <td>Sanofi</td>\n",
       "      <td>Data scientist</td>\n",
       "      <td>Matlab/Python/Pyspark/Scikit-learn/Tensorflow</td>\n",
       "      <td>Master</td>\n",
       "      <td>1.000000</td>\n",
       "      <td>Paris</td>\n",
       "      <td>Débutant</td>\n",
       "    </tr>\n",
       "    <tr>\n",
       "      <th>1</th>\n",
       "      <td>Massachusetts General Hospital(MGH)</td>\n",
       "      <td>Data architecte</td>\n",
       "      <td>Python/Java/Scala/MongoDB</td>\n",
       "      <td>Master</td>\n",
       "      <td>3.000000</td>\n",
       "      <td>Marseille</td>\n",
       "      <td>Débutant</td>\n",
       "    </tr>\n",
       "    <tr>\n",
       "      <th>2</th>\n",
       "      <td>Delve</td>\n",
       "      <td>Lead data scientist</td>\n",
       "      <td>SPSS/SQL/Teradata/R/Python/Tensorflow/scikit-l...</td>\n",
       "      <td>Master</td>\n",
       "      <td>3.000000</td>\n",
       "      <td>Nantes</td>\n",
       "      <td>Débutant</td>\n",
       "    </tr>\n",
       "    <tr>\n",
       "      <th>3</th>\n",
       "      <td>Ann &amp; Robert H. Lurie Children’s Hospital of C...</td>\n",
       "      <td>Data scientist</td>\n",
       "      <td>C/C++/Java/Python</td>\n",
       "      <td>Master</td>\n",
       "      <td>1.500000</td>\n",
       "      <td>Marseille</td>\n",
       "      <td>Débutant</td>\n",
       "    </tr>\n",
       "    <tr>\n",
       "      <th>4</th>\n",
       "      <td>Arm</td>\n",
       "      <td>Data scientist</td>\n",
       "      <td>Matlab/Python/C++/numpy/Tensorflow/scikit-learn</td>\n",
       "      <td>Phd</td>\n",
       "      <td>2.243282</td>\n",
       "      <td>Bordeaux</td>\n",
       "      <td>Débutant</td>\n",
       "    </tr>\n",
       "  </tbody>\n",
       "</table>\n",
       "</div>"
      ],
      "text/plain": [
       "                                          Entreprise               Metier  \\\n",
       "0                                             Sanofi       Data scientist   \n",
       "1                Massachusetts General Hospital(MGH)      Data architecte   \n",
       "2                                              Delve  Lead data scientist   \n",
       "3  Ann & Robert H. Lurie Children’s Hospital of C...       Data scientist   \n",
       "4                                                Arm       Data scientist   \n",
       "\n",
       "                                        Technologies Diplome  Experience  \\\n",
       "0      Matlab/Python/Pyspark/Scikit-learn/Tensorflow  Master    1.000000   \n",
       "1                          Python/Java/Scala/MongoDB  Master    3.000000   \n",
       "2  SPSS/SQL/Teradata/R/Python/Tensorflow/scikit-l...  Master    3.000000   \n",
       "3                                  C/C++/Java/Python  Master    1.500000   \n",
       "4    Matlab/Python/C++/numpy/Tensorflow/scikit-learn     Phd    2.243282   \n",
       "\n",
       "       Ville Exp_label  \n",
       "0      Paris  Débutant  \n",
       "1  Marseille  Débutant  \n",
       "2     Nantes  Débutant  \n",
       "3  Marseille  Débutant  \n",
       "4   Bordeaux  Débutant  "
      ]
     },
     "execution_count": 121,
     "metadata": {},
     "output_type": "execute_result"
    }
   ],
   "source": [
    "# Vefication du Dataframe après netoyage et conversion\n",
    "\n",
    "print(\"Data frame après  netoyage et conversion de la varibale Entreprise\")\n",
    "df.head()"
   ]
  },
  {
   "cell_type": "markdown",
   "metadata": {},
   "source": [
    "##### Etape d'mputation :"
   ]
  },
  {
   "cell_type": "code",
   "execution_count": 17,
   "metadata": {},
   "outputs": [],
   "source": [
    "# Condition de filter(mask), pour les Data Engieers et les Data scientists\n",
    "cond_dataEng = (df['Metier'] == 'Data engineer')\n",
    "cond_dataSci = (df['Metier'] == 'Data scientist')\n"
   ]
  },
  {
   "cell_type": "code",
   "execution_count": 18,
   "metadata": {},
   "outputs": [],
   "source": [
    "# Imputation\n",
    "df.loc[cond_dataSci,'Experience'] = df.loc[cond_dataSci,'Experience'].fillna(df.loc[cond_dataSci,'Experience'].mean())\n",
    "df.loc[cond_dataEng,'Experience'] = df.loc[cond_dataEng,'Experience'].fillna(df.loc[cond_dataEng,'Experience'].median())\n"
   ]
  },
  {
   "cell_type": "code",
   "execution_count": 19,
   "metadata": {
    "scrolled": false
   },
   "outputs": [
    {
     "data": {
      "text/plain": [
       "0"
      ]
     },
     "execution_count": 19,
     "metadata": {},
     "output_type": "execute_result"
    }
   ],
   "source": [
    "# Verification d'imputation pour les data scientists\n",
    "df.loc[cond_dataSci,'Experience'].isnull().sum()"
   ]
  },
  {
   "cell_type": "code",
   "execution_count": 20,
   "metadata": {},
   "outputs": [
    {
     "data": {
      "text/plain": [
       "0"
      ]
     },
     "execution_count": 20,
     "metadata": {},
     "output_type": "execute_result"
    }
   ],
   "source": [
    "# Verification d'imputation pour les data engineers\n",
    "df.loc[cond_dataEng,'Experience'].isnull().sum()"
   ]
  },
  {
   "cell_type": "code",
   "execution_count": 124,
   "metadata": {},
   "outputs": [
    {
     "name": "stdout",
     "output_type": "stream",
     "text": [
      "Nous avons 42 variables manquantes, en total dans le dataframe\n"
     ]
    }
   ],
   "source": [
    "# Nombre des variables manqantes pour la variable expérience \n",
    "vars_na = df.Experience.isnull().sum()\n",
    "print(f\"Nous avons {vars_na} variables manquantes, en total dans le dataframe\")"
   ]
  },
  {
   "cell_type": "markdown",
   "metadata": {},
   "source": [
    "-  Remarque : Imputation pour le reste a voir"
   ]
  },
  {
   "cell_type": "markdown",
   "metadata": {},
   "source": [
    "### 4) Combien d'années d'expériences ont, en moyenne, chacun des profils : le data scientist, le lead data scientist et le data engineer en moyenne?"
   ]
  },
  {
   "cell_type": "markdown",
   "metadata": {},
   "source": [
    "### Réponse :"
   ]
  },
  {
   "cell_type": "markdown",
   "metadata": {},
   "source": [
    "- 1er idée: de faire un filter de chaque profil puis calculer la moyenne des années d'expérience.\n",
    "\n",
    "- 2 eme idée: c'est de regrouper par metier, puis rajouter une une fonction d'aggregation qui calcule la moyene des années d'expérience"
   ]
  },
  {
   "cell_type": "code",
   "execution_count": 125,
   "metadata": {
    "scrolled": true
   },
   "outputs": [
    {
     "data": {
      "text/html": [
       "<div>\n",
       "<style scoped>\n",
       "    .dataframe tbody tr th:only-of-type {\n",
       "        vertical-align: middle;\n",
       "    }\n",
       "\n",
       "    .dataframe tbody tr th {\n",
       "        vertical-align: top;\n",
       "    }\n",
       "\n",
       "    .dataframe thead th {\n",
       "        text-align: right;\n",
       "    }\n",
       "</style>\n",
       "<table border=\"1\" class=\"dataframe\">\n",
       "  <thead>\n",
       "    <tr style=\"text-align: right;\">\n",
       "      <th></th>\n",
       "      <th>Experience</th>\n",
       "    </tr>\n",
       "    <tr>\n",
       "      <th>Metier</th>\n",
       "      <th></th>\n",
       "    </tr>\n",
       "  </thead>\n",
       "  <tbody>\n",
       "    <tr>\n",
       "      <th>Data architecte</th>\n",
       "      <td>3.000476</td>\n",
       "    </tr>\n",
       "    <tr>\n",
       "      <th>Data engineer</th>\n",
       "      <td>2.980827</td>\n",
       "    </tr>\n",
       "    <tr>\n",
       "      <th>Data scientist</th>\n",
       "      <td>2.243282</td>\n",
       "    </tr>\n",
       "    <tr>\n",
       "      <th>Lead data scientist</th>\n",
       "      <td>3.965261</td>\n",
       "    </tr>\n",
       "  </tbody>\n",
       "</table>\n",
       "</div>"
      ],
      "text/plain": [
       "                     Experience\n",
       "Metier                         \n",
       "Data architecte        3.000476\n",
       "Data engineer          2.980827\n",
       "Data scientist         2.243282\n",
       "Lead data scientist    3.965261"
      ]
     },
     "execution_count": 125,
     "metadata": {},
     "output_type": "execute_result"
    }
   ],
   "source": [
    "#2ème idée\n",
    "moyenne_exp_par_metier = df.groupby('Metier').agg({'Experience':'mean'})\n",
    "moyenne_exp_par_metier"
   ]
  },
  {
   "cell_type": "markdown",
   "metadata": {},
   "source": [
    "### 5) Faire la représentation graphique de votre choix afin de comparer le nombre moyen d'années d'expériences pour chaque métier"
   ]
  },
  {
   "cell_type": "markdown",
   "metadata": {},
   "source": [
    "### Réponse :"
   ]
  },
  {
   "cell_type": "code",
   "execution_count": 126,
   "metadata": {},
   "outputs": [
    {
     "data": {
      "image/png": "[encoded data removed]",
      "text/plain": [
       "<Figure size 432x288 with 1 Axes>"
      ]
     },
     "metadata": {},
     "output_type": "display_data"
    }
   ],
   "source": [
    "# Representation du nombre moye d'années d'expériences pour chaque métier\n",
    "moyenne_exp_par_metier.plot.bar(title = \"Nombre moyen d'Années d'expériences par métier\", \n",
    "                                 color = 'green',\n",
    "                                 legend = False)\n",
    "plt.show()"
   ]
  },
  {
   "cell_type": "markdown",
   "metadata": {},
   "source": [
    "### 6) Transformer la variable continue 'Experience' en une nouvelle variable catégorielle 'Exp_label' à 4 modalités: débutant, confirmé, avancé et expert\n",
    "- Veuillez expliquer votre choix du règle de transformation.  "
   ]
  },
  {
   "cell_type": "markdown",
   "metadata": {},
   "source": [
    "### Réponse :"
   ]
  },
  {
   "cell_type": "markdown",
   "metadata": {},
   "source": [
    "- Transformation de la varibale Experience en 4 modalité, Débutant, confirmé, avancé, expert\n",
    "\n",
    "- 1 er idéee naive: On peut se baser sur une plateforme de recrutement, puis faire la categorisation a la main.\n",
    "  Ce qui revient à dire que pour un débutant, il a moins de 2 ans d'experience, confirmé à entre 3 à 5 ans; avancé entre 5 et 8   \n",
    "   un expert à plus de 8 ans d'éxperience.\n",
    "   \n",
    "- 2ème idée: faire une étude de cette population (échantillonage)\n",
    "    c'est à dire étudier la population et faire une prédiction des modalités demandé\n",
    "\n",
    "- Autrement, faire cut de pandas, qui va categoriser en 4 variables, par (bins)"
   ]
  },
  {
   "cell_type": "code",
   "execution_count": 128,
   "metadata": {},
   "outputs": [
    {
     "data": {
      "text/plain": [
       "9540"
      ]
     },
     "execution_count": 128,
     "metadata": {},
     "output_type": "execute_result"
    }
   ],
   "source": [
    "df.Experience.count()\n"
   ]
  },
  {
   "cell_type": "code",
   "execution_count": 27,
   "metadata": {},
   "outputs": [],
   "source": [
    "Exp_label = pd.cut(df['Experience'], bins=4, labels=(\"Débutant\", \"Confirmé\", \"Avancé\", \"Expert\"))\n",
    "df[\"Exp_label\"] = pd.Series(Exp_label, index=df.index)"
   ]
  },
  {
   "cell_type": "code",
   "execution_count": 28,
   "metadata": {},
   "outputs": [
    {
     "data": {
      "image/png": "[encoded data removed]",
      "text/plain": [
       "<Figure size 720x504 with 1 Axes>"
      ]
     },
     "metadata": {},
     "output_type": "display_data"
    }
   ],
   "source": [
    "# Affichage des résultats\n",
    "ax = pd.Series(df['Exp_label'].value_counts().values, index=df['Exp_label'].value_counts().keys()).plot.barh(figsize=(10,7))\n",
    "#add_percentge(ax, x=+10.5, y=0.25) \n",
    "plt.xlabel(\"Nombre de profile\")\n",
    "plt.subplots_adjust(wspace=0.3, hspace=0.2)\n",
    "ax.invert_yaxis()"
   ]
  },
  {
   "cell_type": "markdown",
   "metadata": {},
   "source": [
    "### 7) Quelles sont les 5 technologies les plus utilisées? Faites un graphique"
   ]
  },
  {
   "cell_type": "markdown",
   "metadata": {},
   "source": [
    "### Réponse :"
   ]
  },
  {
   "cell_type": "markdown",
   "metadata": {},
   "source": [
    "- Remarque : La variable Technologie, peut necessiter un nettoyage, et faire attention a divers terme de la meme technologie, par exemple (scikit-learn et sklearn)."
   ]
  },
  {
   "cell_type": "code",
   "execution_count": 129,
   "metadata": {},
   "outputs": [],
   "source": [
    "# la serie technologies \n",
    "technologies_serie = df.Technologies"
   ]
  },
  {
   "cell_type": "code",
   "execution_count": 32,
   "metadata": {},
   "outputs": [],
   "source": [
    "# Verification, s'il y 'a un employé avec une seule technologie, \n",
    "# C'est utile de vérifé au cas ou, nous avons besoin de rajouter des conditions dans la cellule suivante.\n",
    "\n",
    "res = re.compile(r'/')\n",
    "for technos in technologies_serie:\n",
    "    if not res.findall(technos):\n",
    "        print('Il un au moins un employé avec une seule technologie')"
   ]
  },
  {
   "cell_type": "code",
   "execution_count": 33,
   "metadata": {},
   "outputs": [],
   "source": [
    "# Stockage des technologies dans un dictionnaire\n",
    "stock_techs = dict()\n",
    "for technos in technologies_serie:       \n",
    "    for tech in technos.split('/'):\n",
    "        if tech in stock_techs.keys():\n",
    "            stock_techs[tech] += 1\n",
    "        else:\n",
    "            stock_techs[tech] = 1"
   ]
  },
  {
   "cell_type": "code",
   "execution_count": 34,
   "metadata": {},
   "outputs": [],
   "source": [
    "# Trie des technologies par ordre croissant\n",
    "sorted_ = sorted(stock_techs.items(), key=lambda x:x[1], reverse=True)"
   ]
  },
  {
   "cell_type": "code",
   "execution_count": 131,
   "metadata": {
    "scrolled": false
   },
   "outputs": [
    {
     "name": "stdout",
     "output_type": "stream",
     "text": [
      "Les 5 technologies les plus utilisés sont :\n"
     ]
    },
    {
     "data": {
      "text/plain": [
       "dict_keys(['Python', 'R', 'SQL', 'Java', 'Hadoop'])"
      ]
     },
     "execution_count": 131,
     "metadata": {},
     "output_type": "execute_result"
    }
   ],
   "source": [
    "# Les 5 technologies les plus utilisés sont :\n",
    "\n",
    "print(\"Les 5 technologies les plus utilisés sont :\")\n",
    "Top_5_technologies = dict(sorted_[:5])\n",
    "Top_5_technologies.keys()"
   ]
  },
  {
   "cell_type": "code",
   "execution_count": 132,
   "metadata": {},
   "outputs": [
    {
     "data": {
      "image/png": "[encoded data removed]",
      "text/plain": [
       "<Figure size 432x288 with 1 Axes>"
      ]
     },
     "metadata": {},
     "output_type": "display_data"
    }
   ],
   "source": [
    "plt.bar(list(Top_5_technologies.keys()), list(Top_5_technologies.values()))\n",
    "plt.xlabel(\"Les technologies\")\n",
    "plt.ylabel(\"No. de profils\")\n",
    "plt.title(\"Les 5 technologies les plus utilisés\")\n",
    "plt.show()"
   ]
  },
  {
   "cell_type": "code",
   "execution_count": null,
   "metadata": {},
   "outputs": [],
   "source": []
  },
  {
   "cell_type": "markdown",
   "metadata": {},
   "source": [
    "### 8) Réaliser une méthode de clustering non supervisée de votre choix pour faire apparaître 2 clusters que vous jugerez pertinents. Donnez les caractéristiques de chacun des clusters.\n",
    "-  Justifier la performance de votre algorithme grace à une métrique.\n",
    "-  Interpréter votre resultat.  "
   ]
  },
  {
   "cell_type": "markdown",
   "metadata": {},
   "source": [
    "### Réponse :"
   ]
  },
  {
   "cell_type": "markdown",
   "metadata": {},
   "source": [
    "- Remarque : Puisque nous savons le nombre de cluster, nous pouvons utiliser KMeans, algorithme beaucoup utilisé pour faire du clustering, ici nous avons K=2\n"
   ]
  },
  {
   "cell_type": "code",
   "execution_count": 133,
   "metadata": {},
   "outputs": [],
   "source": [
    "# import de librairie du pretraitement\n",
    "from sklearn import preprocessing"
   ]
  },
  {
   "cell_type": "markdown",
   "metadata": {},
   "source": [
    "- Nous avons besoin des pipelines d'encodage_transformation pour nos variables\n",
    "     Ainsi réaliser un dataframe, contenant les variables encodées et transformées."
   ]
  },
  {
   "cell_type": "markdown",
   "metadata": {},
   "source": [
    "##### Pretraitement des données"
   ]
  },
  {
   "cell_type": "code",
   "execution_count": 41,
   "metadata": {},
   "outputs": [],
   "source": [
    "# Le label encoder \n",
    "encoder_label = preprocessing.LabelEncoder()\n",
    "\n",
    "# La variable expérience, n'a pas besoin de transformation, puisqu'elle est déjà de type numérique.\n",
    "df_for_process = df.loc[:,['Experience']]"
   ]
  },
  {
   "cell_type": "code",
   "execution_count": 42,
   "metadata": {},
   "outputs": [],
   "source": [
    "# encodage et transformation des variables\n",
    "df_for_process['villes_encod'] = pd.Series(encoder_label.fit_transform(np.squeeze(df.loc[:,['Ville']])[:]), index = df_for_process.index)\n",
    "#df_for_process['Metier_encod'] = pd.Series(encoder_label.fit_transform(np.squeeze(df.loc[:,['Metier']])[:]), index = df_for_process.index)\n",
    "df_for_process['Technologies_encod'] = pd.Series(encoder_label.fit_transform(np.squeeze(df.loc[:,['Technologies']])[:]), index = df_for_process.index)\n",
    "df_for_process['Diplome_encod'] = pd.Series(encoder_label.fit_transform(np.squeeze(df.loc[:,['Diplome']])[:]), index = df_for_process.index)\n",
    "df_for_process['Exp_label_encod'] = pd.Series(encoder_label.fit_transform(np.squeeze(df.loc[:,['Exp_label']])[:]), index = df_for_process.index)"
   ]
  },
  {
   "cell_type": "code",
   "execution_count": 43,
   "metadata": {
    "scrolled": true
   },
   "outputs": [
    {
     "name": "stdout",
     "output_type": "stream",
     "text": [
      "Le résultat obtenu après le pré-traitement de nos variables\n"
     ]
    },
    {
     "data": {
      "text/html": [
       "<div>\n",
       "<style scoped>\n",
       "    .dataframe tbody tr th:only-of-type {\n",
       "        vertical-align: middle;\n",
       "    }\n",
       "\n",
       "    .dataframe tbody tr th {\n",
       "        vertical-align: top;\n",
       "    }\n",
       "\n",
       "    .dataframe thead th {\n",
       "        text-align: right;\n",
       "    }\n",
       "</style>\n",
       "<table border=\"1\" class=\"dataframe\">\n",
       "  <thead>\n",
       "    <tr style=\"text-align: right;\">\n",
       "      <th></th>\n",
       "      <th>Experience</th>\n",
       "      <th>villes_encod</th>\n",
       "      <th>Technologies_encod</th>\n",
       "      <th>Diplome_encod</th>\n",
       "      <th>Exp_label_encod</th>\n",
       "    </tr>\n",
       "  </thead>\n",
       "  <tbody>\n",
       "    <tr>\n",
       "      <th>0</th>\n",
       "      <td>1.000000</td>\n",
       "      <td>8</td>\n",
       "      <td>27</td>\n",
       "      <td>1</td>\n",
       "      <td>2</td>\n",
       "    </tr>\n",
       "    <tr>\n",
       "      <th>1</th>\n",
       "      <td>3.000000</td>\n",
       "      <td>4</td>\n",
       "      <td>34</td>\n",
       "      <td>1</td>\n",
       "      <td>2</td>\n",
       "    </tr>\n",
       "    <tr>\n",
       "      <th>2</th>\n",
       "      <td>3.000000</td>\n",
       "      <td>6</td>\n",
       "      <td>51</td>\n",
       "      <td>1</td>\n",
       "      <td>2</td>\n",
       "    </tr>\n",
       "    <tr>\n",
       "      <th>3</th>\n",
       "      <td>1.500000</td>\n",
       "      <td>4</td>\n",
       "      <td>2</td>\n",
       "      <td>1</td>\n",
       "      <td>2</td>\n",
       "    </tr>\n",
       "    <tr>\n",
       "      <th>4</th>\n",
       "      <td>2.243282</td>\n",
       "      <td>0</td>\n",
       "      <td>26</td>\n",
       "      <td>3</td>\n",
       "      <td>2</td>\n",
       "    </tr>\n",
       "    <tr>\n",
       "      <th>...</th>\n",
       "      <td>...</td>\n",
       "      <td>...</td>\n",
       "      <td>...</td>\n",
       "      <td>...</td>\n",
       "      <td>...</td>\n",
       "    </tr>\n",
       "    <tr>\n",
       "      <th>9577</th>\n",
       "      <td>1.500000</td>\n",
       "      <td>3</td>\n",
       "      <td>1</td>\n",
       "      <td>1</td>\n",
       "      <td>2</td>\n",
       "    </tr>\n",
       "    <tr>\n",
       "      <th>9578</th>\n",
       "      <td>11.000000</td>\n",
       "      <td>13</td>\n",
       "      <td>9</td>\n",
       "      <td>1</td>\n",
       "      <td>0</td>\n",
       "    </tr>\n",
       "    <tr>\n",
       "      <th>9579</th>\n",
       "      <td>1.000000</td>\n",
       "      <td>8</td>\n",
       "      <td>48</td>\n",
       "      <td>1</td>\n",
       "      <td>2</td>\n",
       "    </tr>\n",
       "    <tr>\n",
       "      <th>9580</th>\n",
       "      <td>17.000000</td>\n",
       "      <td>9</td>\n",
       "      <td>37</td>\n",
       "      <td>1</td>\n",
       "      <td>3</td>\n",
       "    </tr>\n",
       "    <tr>\n",
       "      <th>9581</th>\n",
       "      <td>0.000000</td>\n",
       "      <td>8</td>\n",
       "      <td>56</td>\n",
       "      <td>3</td>\n",
       "      <td>2</td>\n",
       "    </tr>\n",
       "  </tbody>\n",
       "</table>\n",
       "<p>9582 rows × 5 columns</p>\n",
       "</div>"
      ],
      "text/plain": [
       "      Experience  villes_encod  Technologies_encod  Diplome_encod  \\\n",
       "0       1.000000             8                  27              1   \n",
       "1       3.000000             4                  34              1   \n",
       "2       3.000000             6                  51              1   \n",
       "3       1.500000             4                   2              1   \n",
       "4       2.243282             0                  26              3   \n",
       "...          ...           ...                 ...            ...   \n",
       "9577    1.500000             3                   1              1   \n",
       "9578   11.000000            13                   9              1   \n",
       "9579    1.000000             8                  48              1   \n",
       "9580   17.000000             9                  37              1   \n",
       "9581    0.000000             8                  56              3   \n",
       "\n",
       "      Exp_label_encod  \n",
       "0                   2  \n",
       "1                   2  \n",
       "2                   2  \n",
       "3                   2  \n",
       "4                   2  \n",
       "...               ...  \n",
       "9577                2  \n",
       "9578                0  \n",
       "9579                2  \n",
       "9580                3  \n",
       "9581                2  \n",
       "\n",
       "[9582 rows x 5 columns]"
      ]
     },
     "execution_count": 43,
     "metadata": {},
     "output_type": "execute_result"
    }
   ],
   "source": [
    "print('Le résultat obtenu après le pré-traitement de nos variables')\n",
    "df_for_process"
   ]
  },
  {
   "cell_type": "code",
   "execution_count": 44,
   "metadata": {},
   "outputs": [
    {
     "name": "stdout",
     "output_type": "stream",
     "text": [
      "<class 'pandas.core.frame.DataFrame'>\n",
      "RangeIndex: 9582 entries, 0 to 9581\n",
      "Data columns (total 5 columns):\n",
      " #   Column              Non-Null Count  Dtype  \n",
      "---  ------              --------------  -----  \n",
      " 0   Experience          9540 non-null   float64\n",
      " 1   villes_encod        9582 non-null   int32  \n",
      " 2   Technologies_encod  9582 non-null   int32  \n",
      " 3   Diplome_encod       9582 non-null   int32  \n",
      " 4   Exp_label_encod     9582 non-null   int32  \n",
      "dtypes: float64(1), int32(4)\n",
      "memory usage: 224.7 KB\n"
     ]
    }
   ],
   "source": [
    "# Information sur le resultat du dataframe obtenu \n",
    "df_for_process.info()"
   ]
  },
  {
   "cell_type": "markdown",
   "metadata": {},
   "source": [
    "####  Etape du Clustering"
   ]
  },
  {
   "cell_type": "code",
   "execution_count": 45,
   "metadata": {},
   "outputs": [],
   "source": [
    "# Importation des librairies pour les KMeans\n",
    "from sklearn.cluster import KMeans\n",
    "from sklearn.preprocessing import MinMaxScaler"
   ]
  },
  {
   "cell_type": "code",
   "execution_count": 46,
   "metadata": {},
   "outputs": [],
   "source": [
    "# Module importé pour l'imputation des variables manquantes\n",
    "from sklearn.impute import SimpleImputer"
   ]
  },
  {
   "cell_type": "code",
   "execution_count": 47,
   "metadata": {},
   "outputs": [],
   "source": [
    "# Conversion du dataframe en float\n",
    "X = df_for_process.astype(float)"
   ]
  },
  {
   "cell_type": "markdown",
   "metadata": {},
   "source": [
    "- Nous ne pouvons pas, executer l'algorithme Kmeans, sachant que nous avons des valeurs manquantes. \n",
    "    Cependant, je suis dans l'obligation de faire l'imputation des na, ou supprimer les observations manquantes.\n",
    "   \n",
    "- J'ai choisit dans ce cas, de remplir les valeurs manquantes par la moyenne    "
   ]
  },
  {
   "cell_type": "code",
   "execution_count": 48,
   "metadata": {},
   "outputs": [],
   "source": [
    "# feature scaling avec MinMaxscaling\n",
    "# Imputation des variables manquantes par la moyenne, afin d'éviter l'erreur de l'algorithme Kmeans\n",
    "scaler = MinMaxScaler()\n",
    "imp = SimpleImputer(missing_values=np.nan, strategy='mean')\n",
    "\n",
    "X_filled = imp.fit_transform(X)\n",
    "X_scaled = scaler.fit_transform(X_filled)"
   ]
  },
  {
   "cell_type": "code",
   "execution_count": 134,
   "metadata": {
    "scrolled": true
   },
   "outputs": [
    {
     "data": {
      "text/html": [
       "<style>#sk-container-id-4 {color: black;background-color: white;}#sk-container-id-4 pre{padding: 0;}#sk-container-id-4 div.sk-toggleable {background-color: white;}#sk-container-id-4 label.sk-toggleable__label {cursor: pointer;display: block;width: 100%;margin-bottom: 0;padding: 0.3em;box-sizing: border-box;text-align: center;}#sk-container-id-4 label.sk-toggleable__label-arrow:before {content: \"▸\";float: left;margin-right: 0.25em;color: #696969;}#sk-container-id-4 label.sk-toggleable__label-arrow:hover:before {color: black;}#sk-container-id-4 div.sk-estimator:hover label.sk-toggleable__label-arrow:before {color: black;}#sk-container-id-4 div.sk-toggleable__content {max-height: 0;max-width: 0;overflow: hidden;text-align: left;background-color: #f0f8ff;}#sk-container-id-4 div.sk-toggleable__content pre {margin: 0.2em;color: black;border-radius: 0.25em;background-color: #f0f8ff;}#sk-container-id-4 input.sk-toggleable__control:checked~div.sk-toggleable__content {max-height: 200px;max-width: 100%;overflow: auto;}#sk-container-id-4 input.sk-toggleable__control:checked~label.sk-toggleable__label-arrow:before {content: \"▾\";}#sk-container-id-4 div.sk-estimator input.sk-toggleable__control:checked~label.sk-toggleable__label {background-color: #d4ebff;}#sk-container-id-4 div.sk-label input.sk-toggleable__control:checked~label.sk-toggleable__label {background-color: #d4ebff;}#sk-container-id-4 input.sk-hidden--visually {border: 0;clip: rect(1px 1px 1px 1px);clip: rect(1px, 1px, 1px, 1px);height: 1px;margin: -1px;overflow: hidden;padding: 0;position: absolute;width: 1px;}#sk-container-id-4 div.sk-estimator {font-family: monospace;background-color: #f0f8ff;border: 1px dotted black;border-radius: 0.25em;box-sizing: border-box;margin-bottom: 0.5em;}#sk-container-id-4 div.sk-estimator:hover {background-color: #d4ebff;}#sk-container-id-4 div.sk-parallel-item::after {content: \"\";width: 100%;border-bottom: 1px solid gray;flex-grow: 1;}#sk-container-id-4 div.sk-label:hover label.sk-toggleable__label {background-color: #d4ebff;}#sk-container-id-4 div.sk-serial::before {content: \"\";position: absolute;border-left: 1px solid gray;box-sizing: border-box;top: 0;bottom: 0;left: 50%;z-index: 0;}#sk-container-id-4 div.sk-serial {display: flex;flex-direction: column;align-items: center;background-color: white;padding-right: 0.2em;padding-left: 0.2em;position: relative;}#sk-container-id-4 div.sk-item {position: relative;z-index: 1;}#sk-container-id-4 div.sk-parallel {display: flex;align-items: stretch;justify-content: center;background-color: white;position: relative;}#sk-container-id-4 div.sk-item::before, #sk-container-id-4 div.sk-parallel-item::before {content: \"\";position: absolute;border-left: 1px solid gray;box-sizing: border-box;top: 0;bottom: 0;left: 50%;z-index: -1;}#sk-container-id-4 div.sk-parallel-item {display: flex;flex-direction: column;z-index: 1;position: relative;background-color: white;}#sk-container-id-4 div.sk-parallel-item:first-child::after {align-self: flex-end;width: 50%;}#sk-container-id-4 div.sk-parallel-item:last-child::after {align-self: flex-start;width: 50%;}#sk-container-id-4 div.sk-parallel-item:only-child::after {width: 0;}#sk-container-id-4 div.sk-dashed-wrapped {border: 1px dashed gray;margin: 0 0.4em 0.5em 0.4em;box-sizing: border-box;padding-bottom: 0.4em;background-color: white;}#sk-container-id-4 div.sk-label label {font-family: monospace;font-weight: bold;display: inline-block;line-height: 1.2em;}#sk-container-id-4 div.sk-label-container {text-align: center;}#sk-container-id-4 div.sk-container {/* jupyter's `normalize.less` sets `[hidden] { display: none; }` but bootstrap.min.css set `[hidden] { display: none !important; }` so we also need the `!important` here to be able to override the default hidden behavior on the sphinx rendered scikit-learn.org. See: https://github.com/scikit-learn/scikit-learn/issues/21755 */display: inline-block !important;position: relative;}#sk-container-id-4 div.sk-text-repr-fallback {display: none;}</style><div id=\"sk-container-id-4\" class=\"sk-top-container\"><div class=\"sk-text-repr-fallback\"><pre>KMeans(n_clusters=2, n_init=20)</pre><b>In a Jupyter environment, please rerun this cell to show the HTML representation or trust the notebook. <br />On GitHub, the HTML representation is unable to render, please try loading this page with nbviewer.org.</b></div><div class=\"sk-container\" hidden><div class=\"sk-item\"><div class=\"sk-estimator sk-toggleable\"><input class=\"sk-toggleable__control sk-hidden--visually\" id=\"sk-estimator-id-4\" type=\"checkbox\" checked><label for=\"sk-estimator-id-4\" class=\"sk-toggleable__label sk-toggleable__label-arrow\">KMeans</label><div class=\"sk-toggleable__content\"><pre>KMeans(n_clusters=2, n_init=20)</pre></div></div></div></div></div>"
      ],
      "text/plain": [
       "KMeans(n_clusters=2, n_init=20)"
      ]
     },
     "execution_count": 134,
     "metadata": {},
     "output_type": "execute_result"
    }
   ],
   "source": [
    "# initialisation du modèle et entraînement\n",
    "model = KMeans(n_clusters=2, n_init= 20, algorithm='lloyd') # lloyd , sum min square, ressemble à 'auto'\n",
    "model.fit(X_scaled)"
   ]
  },
  {
   "cell_type": "code",
   "execution_count": 135,
   "metadata": {},
   "outputs": [],
   "source": [
    "# Les étiquettes et les clusters\n",
    "labels = model.labels_\n",
    "cluster_1, cluster_2 = model.cluster_centers_"
   ]
  },
  {
   "cell_type": "code",
   "execution_count": null,
   "metadata": {},
   "outputs": [],
   "source": []
  },
  {
   "cell_type": "markdown",
   "metadata": {},
   "source": [
    "#### Etape : Interpretation des resultas, de clustering choisit (Kmeans)"
   ]
  },
  {
   "cell_type": "markdown",
   "metadata": {},
   "source": [
    "- Nous commençons par voir la "
   ]
  },
  {
   "cell_type": "code",
   "execution_count": 144,
   "metadata": {
    "scrolled": true
   },
   "outputs": [
    {
     "name": "stdout",
     "output_type": "stream",
     "text": [
      "Interpretation\n",
      "Nous pouvons voir d'apès les deux figures, que la variable Expérience \n"
     ]
    },
    {
     "data": {
      "image/png": "[encoded data removed]",
      "text/plain": [
       "<Figure size 720x432 with 2 Axes>"
      ]
     },
     "metadata": {},
     "output_type": "display_data"
    }
   ],
   "source": [
    "plt.figure(figsize=(10, 6))\n",
    "plt.subplot(131)\n",
    "ax = df_for_process.loc[labels==1,'Experience'].plot(kind='hist', color='green', label='cluster_1')\n",
    "plt.legend()\n",
    "plt.xlabel(\"Experience_cluster_1\")\n",
    "plt.subplot(133)\n",
    "ax = df_for_process.loc[labels==0,'Experience'].plot(kind='hist', color='brown', label='cluster_2')\n",
    "plt.xlabel(\"Experience_cluster_2\")\n",
    "plt.legend()\n",
    "\n",
    "print(\"Interpretation\")\n",
    "print(\"Nous pouvons voir d'apès les deux figures, que la variable Expérience \")"
   ]
  },
  {
   "cell_type": "code",
   "execution_count": null,
   "metadata": {},
   "outputs": [],
   "source": []
  },
  {
   "cell_type": "code",
   "execution_count": 143,
   "metadata": {
    "scrolled": true
   },
   "outputs": [
    {
     "data": {
      "text/plain": [
       "<matplotlib.legend.Legend at 0x1dbff5d2f70>"
      ]
     },
     "execution_count": 143,
     "metadata": {},
     "output_type": "execute_result"
    },
    {
     "data": {
      "image/png": "[encoded data removed]",
      "text/plain": [
       "<Figure size 576x360 with 2 Axes>"
      ]
     },
     "metadata": {},
     "output_type": "display_data"
    }
   ],
   "source": [
    "plt.figure(figsize=(8,5))\n",
    "plt.subplot(131)\n",
    "ax = df.loc[labels==1,'Diplome'].value_counts().plot(kind='bar', color='green', label='cluster_1')\n",
    "plt.legend()\n",
    "plt.subplot(133),\n",
    "ax = df.loc[labels==0,'Diplome'].value_counts().plot(kind='bar', color='brown', label='cluster_2')\n",
    "plt.legend()"
   ]
  },
  {
   "cell_type": "code",
   "execution_count": 54,
   "metadata": {},
   "outputs": [
    {
     "data": {
      "text/plain": [
       "<matplotlib.legend.Legend at 0x1dbf66e6ac0>"
      ]
     },
     "execution_count": 54,
     "metadata": {},
     "output_type": "execute_result"
    },
    {
     "data": {
      "image/png": "[encoded data removed]",
      "text/plain": [
       "<Figure size 432x288 with 1 Axes>"
      ]
     },
     "metadata": {},
     "output_type": "display_data"
    }
   ],
   "source": [
    "ax = df.loc[labels==0,'Ville'].value_counts().plot(kind='bar', color = 'green', label='cluster_2')\n",
    "ax = df.loc[labels==1,'Ville'].value_counts().plot(kind='bar', color = 'brown', label='cluster_1')\n",
    "plt.ylabel(\"Nombre de profile\")\n",
    "plt.xlabel(\"Ville\")\n",
    "plt.legend()"
   ]
  },
  {
   "cell_type": "code",
   "execution_count": 142,
   "metadata": {},
   "outputs": [
    {
     "data": {
      "text/plain": [
       "Text(0, 0.5, 'Nombre de profile')"
      ]
     },
     "execution_count": 142,
     "metadata": {},
     "output_type": "execute_result"
    },
    {
     "data": {
      "image/png": "[encoded data removed]",
      "text/plain": [
       "<Figure size 576x360 with 2 Axes>"
      ]
     },
     "metadata": {},
     "output_type": "display_data"
    }
   ],
   "source": [
    "plt.figure(figsize=(8, 5))\n",
    "plt.subplot(131)\n",
    "ax=df.loc[labels==1,'Exp_label'].value_counts().plot(kind='bar', color='green', label='cluster_1')\n",
    "plt.ylabel(\"Nombre de profile\")\n",
    "#plt.subplots_adjust(hspace=0.2)\n",
    "plt.subplot(133)\n",
    "ax=df.loc[labels==0,'Exp_label'].value_counts().plot(kind='bar', color='brown', label='cluster_2')\n",
    "plt.ylabel(\"Nombre de profile\")"
   ]
  },
  {
   "cell_type": "raw",
   "metadata": {},
   "source": [
    "ax = df.loc[labels_==0,'Technologies'].value_counts()[0:5].plot(kind='bar', color = 'green', label='cluster_2')\n",
    "ax = df.loc[labels_==1,'Technologies'].value_counts()[0:5].plot(kind='bar', color = 'brown', label='cluster_1')\n",
    "plt.ylabel(\"Nombre de profile\")\n",
    "plt.xlabel(\" Technologies\")\n",
    "plt.legend()"
   ]
  },
  {
   "cell_type": "markdown",
   "metadata": {},
   "source": [
    "### 9) Réaliser la prédiction des métiers manquants dans la base de données par l'algorithme de votre choix\n",
    "-  Justifier la performance de votre algorithme grace à une métrique.\n",
    "-  Interpréter votre resultat.  "
   ]
  },
  {
   "cell_type": "markdown",
   "metadata": {},
   "source": [
    "### Réponse"
   ]
  },
  {
   "cell_type": "code",
   "execution_count": 56,
   "metadata": {},
   "outputs": [],
   "source": [
    "## Importation des librairies pour notre modèle de prédiction\n",
    "from sklearn import model_selection\n",
    "from sklearn.metrics import classification_report, accuracy_score, confusion_matrix\n",
    "from sklearn.neighbors import KNeighborsClassifier"
   ]
  },
  {
   "cell_type": "code",
   "execution_count": 57,
   "metadata": {},
   "outputs": [
    {
     "name": "stdout",
     "output_type": "stream",
     "text": [
      "Nous rappellons, que nous avons 19 métiers manquants\n"
     ]
    }
   ],
   "source": [
    "print(f\"Nous rappellons, que nous avons {df.Metier.isnull().sum()} métiers manquants\")\n"
   ]
  },
  {
   "cell_type": "markdown",
   "metadata": {},
   "source": [
    "#### Pretraitement des données pour faire la prédiction "
   ]
  },
  {
   "cell_type": "code",
   "execution_count": 59,
   "metadata": {},
   "outputs": [],
   "source": [
    "# Condition, (mask) extrait les valeurs manquantes de la variables Metier.\n",
    "cond_nan_metier = (df['Metier'].isna())"
   ]
  },
  {
   "cell_type": "code",
   "execution_count": 137,
   "metadata": {},
   "outputs": [
    {
     "data": {
      "text/html": [
       "<div>\n",
       "<style scoped>\n",
       "    .dataframe tbody tr th:only-of-type {\n",
       "        vertical-align: middle;\n",
       "    }\n",
       "\n",
       "    .dataframe tbody tr th {\n",
       "        vertical-align: top;\n",
       "    }\n",
       "\n",
       "    .dataframe thead th {\n",
       "        text-align: right;\n",
       "    }\n",
       "</style>\n",
       "<table border=\"1\" class=\"dataframe\">\n",
       "  <thead>\n",
       "    <tr style=\"text-align: right;\">\n",
       "      <th></th>\n",
       "      <th>Experience</th>\n",
       "      <th>villes_encod</th>\n",
       "      <th>Technologies_encod</th>\n",
       "      <th>Diplome_encod</th>\n",
       "      <th>Exp_label_encod</th>\n",
       "    </tr>\n",
       "  </thead>\n",
       "  <tbody>\n",
       "    <tr>\n",
       "      <th>0</th>\n",
       "      <td>1.000000</td>\n",
       "      <td>8</td>\n",
       "      <td>27</td>\n",
       "      <td>1</td>\n",
       "      <td>2</td>\n",
       "    </tr>\n",
       "    <tr>\n",
       "      <th>1</th>\n",
       "      <td>3.000000</td>\n",
       "      <td>4</td>\n",
       "      <td>34</td>\n",
       "      <td>1</td>\n",
       "      <td>2</td>\n",
       "    </tr>\n",
       "    <tr>\n",
       "      <th>2</th>\n",
       "      <td>3.000000</td>\n",
       "      <td>6</td>\n",
       "      <td>51</td>\n",
       "      <td>1</td>\n",
       "      <td>2</td>\n",
       "    </tr>\n",
       "    <tr>\n",
       "      <th>3</th>\n",
       "      <td>1.500000</td>\n",
       "      <td>4</td>\n",
       "      <td>2</td>\n",
       "      <td>1</td>\n",
       "      <td>2</td>\n",
       "    </tr>\n",
       "    <tr>\n",
       "      <th>4</th>\n",
       "      <td>2.243282</td>\n",
       "      <td>0</td>\n",
       "      <td>26</td>\n",
       "      <td>3</td>\n",
       "      <td>2</td>\n",
       "    </tr>\n",
       "  </tbody>\n",
       "</table>\n",
       "</div>"
      ],
      "text/plain": [
       "   Experience  villes_encod  Technologies_encod  Diplome_encod  \\\n",
       "0    1.000000             8                  27              1   \n",
       "1    3.000000             4                  34              1   \n",
       "2    3.000000             6                  51              1   \n",
       "3    1.500000             4                   2              1   \n",
       "4    2.243282             0                  26              3   \n",
       "\n",
       "   Exp_label_encod  \n",
       "0                2  \n",
       "1                2  \n",
       "2                2  \n",
       "3                2  \n",
       "4                2  "
      ]
     },
     "execution_count": 137,
     "metadata": {},
     "output_type": "execute_result"
    }
   ],
   "source": [
    "df_for_process.head()"
   ]
  },
  {
   "cell_type": "code",
   "execution_count": 61,
   "metadata": {},
   "outputs": [],
   "source": [
    "df_X = df_for_process.loc[~cond_nan_metier]"
   ]
  },
  {
   "cell_type": "code",
   "execution_count": 62,
   "metadata": {},
   "outputs": [
    {
     "name": "stdout",
     "output_type": "stream",
     "text": [
      "<class 'pandas.core.frame.DataFrame'>\n",
      "Int64Index: 9563 entries, 0 to 9581\n",
      "Data columns (total 5 columns):\n",
      " #   Column              Non-Null Count  Dtype  \n",
      "---  ------              --------------  -----  \n",
      " 0   Experience          9521 non-null   float64\n",
      " 1   villes_encod        9563 non-null   int32  \n",
      " 2   Technologies_encod  9563 non-null   int32  \n",
      " 3   Diplome_encod       9563 non-null   int32  \n",
      " 4   Exp_label_encod     9563 non-null   int32  \n",
      "dtypes: float64(1), int32(4)\n",
      "memory usage: 298.8 KB\n"
     ]
    }
   ],
   "source": [
    "df_X.info()"
   ]
  },
  {
   "cell_type": "code",
   "execution_count": 63,
   "metadata": {},
   "outputs": [],
   "source": [
    "y_cond = df.loc[~cond_nan_metier, 'Metier']"
   ]
  },
  {
   "cell_type": "code",
   "execution_count": 64,
   "metadata": {},
   "outputs": [],
   "source": [
    "y = pd.Series(encoder_label.fit_transform(np.squeeze(y_cond)[:]), index = y_cond.index).astype(float)"
   ]
  },
  {
   "cell_type": "code",
   "execution_count": 65,
   "metadata": {},
   "outputs": [
    {
     "data": {
      "text/plain": [
       "array([2., 0., 3., 1.])"
      ]
     },
     "execution_count": 65,
     "metadata": {},
     "output_type": "execute_result"
    }
   ],
   "source": [
    "### Encodage utilisé\n",
    "# 2 data scientist\n",
    "# 0 Data architecte\n",
    "# 3 Lead data scientist\n",
    "# 1 Data engineer\n",
    "y.unique()"
   ]
  },
  {
   "cell_type": "code",
   "execution_count": 111,
   "metadata": {},
   "outputs": [
    {
     "data": {
      "text/plain": [
       "array(['Data scientist', 'Data architecte', 'Lead data scientist', ...,\n",
       "       'Data scientist', 'Data scientist', 'Data scientist'], dtype=object)"
      ]
     },
     "execution_count": 111,
     "metadata": {},
     "output_type": "execute_result"
    }
   ],
   "source": []
  },
  {
   "cell_type": "code",
   "execution_count": 66,
   "metadata": {
    "scrolled": true
   },
   "outputs": [
    {
     "name": "stdout",
     "output_type": "stream",
     "text": [
      "<class 'pandas.core.series.Series'>\n",
      "Int64Index: 9563 entries, 0 to 9581\n",
      "Series name: None\n",
      "Non-Null Count  Dtype  \n",
      "--------------  -----  \n",
      "9563 non-null   float64\n",
      "dtypes: float64(1)\n",
      "memory usage: 149.4 KB\n"
     ]
    }
   ],
   "source": [
    "y.info()"
   ]
  },
  {
   "cell_type": "code",
   "execution_count": null,
   "metadata": {},
   "outputs": [],
   "source": []
  },
  {
   "cell_type": "code",
   "execution_count": 67,
   "metadata": {
    "scrolled": true
   },
   "outputs": [],
   "source": [
    "# X_ for predict\n",
    "df_X_to_predict = df_for_process.loc[cond_nan_metier]"
   ]
  },
  {
   "cell_type": "code",
   "execution_count": 68,
   "metadata": {},
   "outputs": [
    {
     "name": "stdout",
     "output_type": "stream",
     "text": [
      "<class 'pandas.core.frame.DataFrame'>\n",
      "Int64Index: 19 entries, 346 to 9490\n",
      "Data columns (total 5 columns):\n",
      " #   Column              Non-Null Count  Dtype  \n",
      "---  ------              --------------  -----  \n",
      " 0   Experience          19 non-null     float64\n",
      " 1   villes_encod        19 non-null     int32  \n",
      " 2   Technologies_encod  19 non-null     int32  \n",
      " 3   Diplome_encod       19 non-null     int32  \n",
      " 4   Exp_label_encod     19 non-null     int32  \n",
      "dtypes: float64(1), int32(4)\n",
      "memory usage: 608.0 bytes\n"
     ]
    }
   ],
   "source": [
    "df_X_to_predict.info()"
   ]
  },
  {
   "cell_type": "code",
   "execution_count": 81,
   "metadata": {},
   "outputs": [
    {
     "name": "stderr",
     "output_type": "stream",
     "text": [
      "C:\\Users\\adnan\\AppData\\Local\\Temp\\ipykernel_43588\\3102375117.py:1: SettingWithCopyWarning: \n",
      "A value is trying to be set on a copy of a slice from a DataFrame.\n",
      "Try using .loc[row_indexer,col_indexer] = value instead\n",
      "\n",
      "See the caveats in the documentation: https://pandas.pydata.org/pandas-docs/stable/user_guide/indexing.html#returning-a-view-versus-a-copy\n",
      "  df_X['Experience'] = df_X['Experience'].fillna(df_X['Experience'].mean())\n"
     ]
    }
   ],
   "source": [
    "df_X['Experience'] = df_X['Experience'].fillna(df_X['Experience'].mean())"
   ]
  },
  {
   "cell_type": "code",
   "execution_count": 72,
   "metadata": {},
   "outputs": [],
   "source": [
    "# Training ........\n",
    "X_knn = df_X"
   ]
  },
  {
   "cell_type": "code",
   "execution_count": 82,
   "metadata": {
    "scrolled": true
   },
   "outputs": [
    {
     "data": {
      "text/html": [
       "<div>\n",
       "<style scoped>\n",
       "    .dataframe tbody tr th:only-of-type {\n",
       "        vertical-align: middle;\n",
       "    }\n",
       "\n",
       "    .dataframe tbody tr th {\n",
       "        vertical-align: top;\n",
       "    }\n",
       "\n",
       "    .dataframe thead th {\n",
       "        text-align: right;\n",
       "    }\n",
       "</style>\n",
       "<table border=\"1\" class=\"dataframe\">\n",
       "  <thead>\n",
       "    <tr style=\"text-align: right;\">\n",
       "      <th></th>\n",
       "      <th>Experience</th>\n",
       "      <th>villes_encod</th>\n",
       "      <th>Technologies_encod</th>\n",
       "      <th>Diplome_encod</th>\n",
       "      <th>Exp_label_encod</th>\n",
       "    </tr>\n",
       "  </thead>\n",
       "  <tbody>\n",
       "    <tr>\n",
       "      <th>0</th>\n",
       "      <td>1.000000</td>\n",
       "      <td>8</td>\n",
       "      <td>27</td>\n",
       "      <td>1</td>\n",
       "      <td>2</td>\n",
       "    </tr>\n",
       "    <tr>\n",
       "      <th>1</th>\n",
       "      <td>3.000000</td>\n",
       "      <td>4</td>\n",
       "      <td>34</td>\n",
       "      <td>1</td>\n",
       "      <td>2</td>\n",
       "    </tr>\n",
       "    <tr>\n",
       "      <th>2</th>\n",
       "      <td>3.000000</td>\n",
       "      <td>6</td>\n",
       "      <td>51</td>\n",
       "      <td>1</td>\n",
       "      <td>2</td>\n",
       "    </tr>\n",
       "    <tr>\n",
       "      <th>3</th>\n",
       "      <td>1.500000</td>\n",
       "      <td>4</td>\n",
       "      <td>2</td>\n",
       "      <td>1</td>\n",
       "      <td>2</td>\n",
       "    </tr>\n",
       "    <tr>\n",
       "      <th>4</th>\n",
       "      <td>2.243282</td>\n",
       "      <td>0</td>\n",
       "      <td>26</td>\n",
       "      <td>3</td>\n",
       "      <td>2</td>\n",
       "    </tr>\n",
       "  </tbody>\n",
       "</table>\n",
       "</div>"
      ],
      "text/plain": [
       "   Experience  villes_encod  Technologies_encod  Diplome_encod  \\\n",
       "0    1.000000             8                  27              1   \n",
       "1    3.000000             4                  34              1   \n",
       "2    3.000000             6                  51              1   \n",
       "3    1.500000             4                   2              1   \n",
       "4    2.243282             0                  26              3   \n",
       "\n",
       "   Exp_label_encod  \n",
       "0                2  \n",
       "1                2  \n",
       "2                2  \n",
       "3                2  \n",
       "4                2  "
      ]
     },
     "execution_count": 82,
     "metadata": {},
     "output_type": "execute_result"
    }
   ],
   "source": [
    "X_knn.head()"
   ]
  },
  {
   "cell_type": "code",
   "execution_count": 85,
   "metadata": {},
   "outputs": [],
   "source": [
    "from sklearn.metrics import classification_report, accuracy_score, confusion_matrix\n",
    "from sklearn import model_selection\n",
    "\n",
    "X_train, X_test, y_train, y_test = model_selection.train_test_split(X_knn,\n",
    "                                                    y,\n",
    "                                                    test_size = 0.3,\n",
    "                                                    random_state = 0)"
   ]
  },
  {
   "cell_type": "code",
   "execution_count": 86,
   "metadata": {},
   "outputs": [
    {
     "data": {
      "text/html": [
       "<style>#sk-container-id-3 {color: black;background-color: white;}#sk-container-id-3 pre{padding: 0;}#sk-container-id-3 div.sk-toggleable {background-color: white;}#sk-container-id-3 label.sk-toggleable__label {cursor: pointer;display: block;width: 100%;margin-bottom: 0;padding: 0.3em;box-sizing: border-box;text-align: center;}#sk-container-id-3 label.sk-toggleable__label-arrow:before {content: \"▸\";float: left;margin-right: 0.25em;color: #696969;}#sk-container-id-3 label.sk-toggleable__label-arrow:hover:before {color: black;}#sk-container-id-3 div.sk-estimator:hover label.sk-toggleable__label-arrow:before {color: black;}#sk-container-id-3 div.sk-toggleable__content {max-height: 0;max-width: 0;overflow: hidden;text-align: left;background-color: #f0f8ff;}#sk-container-id-3 div.sk-toggleable__content pre {margin: 0.2em;color: black;border-radius: 0.25em;background-color: #f0f8ff;}#sk-container-id-3 input.sk-toggleable__control:checked~div.sk-toggleable__content {max-height: 200px;max-width: 100%;overflow: auto;}#sk-container-id-3 input.sk-toggleable__control:checked~label.sk-toggleable__label-arrow:before {content: \"▾\";}#sk-container-id-3 div.sk-estimator input.sk-toggleable__control:checked~label.sk-toggleable__label {background-color: #d4ebff;}#sk-container-id-3 div.sk-label input.sk-toggleable__control:checked~label.sk-toggleable__label {background-color: #d4ebff;}#sk-container-id-3 input.sk-hidden--visually {border: 0;clip: rect(1px 1px 1px 1px);clip: rect(1px, 1px, 1px, 1px);height: 1px;margin: -1px;overflow: hidden;padding: 0;position: absolute;width: 1px;}#sk-container-id-3 div.sk-estimator {font-family: monospace;background-color: #f0f8ff;border: 1px dotted black;border-radius: 0.25em;box-sizing: border-box;margin-bottom: 0.5em;}#sk-container-id-3 div.sk-estimator:hover {background-color: #d4ebff;}#sk-container-id-3 div.sk-parallel-item::after {content: \"\";width: 100%;border-bottom: 1px solid gray;flex-grow: 1;}#sk-container-id-3 div.sk-label:hover label.sk-toggleable__label {background-color: #d4ebff;}#sk-container-id-3 div.sk-serial::before {content: \"\";position: absolute;border-left: 1px solid gray;box-sizing: border-box;top: 0;bottom: 0;left: 50%;z-index: 0;}#sk-container-id-3 div.sk-serial {display: flex;flex-direction: column;align-items: center;background-color: white;padding-right: 0.2em;padding-left: 0.2em;position: relative;}#sk-container-id-3 div.sk-item {position: relative;z-index: 1;}#sk-container-id-3 div.sk-parallel {display: flex;align-items: stretch;justify-content: center;background-color: white;position: relative;}#sk-container-id-3 div.sk-item::before, #sk-container-id-3 div.sk-parallel-item::before {content: \"\";position: absolute;border-left: 1px solid gray;box-sizing: border-box;top: 0;bottom: 0;left: 50%;z-index: -1;}#sk-container-id-3 div.sk-parallel-item {display: flex;flex-direction: column;z-index: 1;position: relative;background-color: white;}#sk-container-id-3 div.sk-parallel-item:first-child::after {align-self: flex-end;width: 50%;}#sk-container-id-3 div.sk-parallel-item:last-child::after {align-self: flex-start;width: 50%;}#sk-container-id-3 div.sk-parallel-item:only-child::after {width: 0;}#sk-container-id-3 div.sk-dashed-wrapped {border: 1px dashed gray;margin: 0 0.4em 0.5em 0.4em;box-sizing: border-box;padding-bottom: 0.4em;background-color: white;}#sk-container-id-3 div.sk-label label {font-family: monospace;font-weight: bold;display: inline-block;line-height: 1.2em;}#sk-container-id-3 div.sk-label-container {text-align: center;}#sk-container-id-3 div.sk-container {/* jupyter's `normalize.less` sets `[hidden] { display: none; }` but bootstrap.min.css set `[hidden] { display: none !important; }` so we also need the `!important` here to be able to override the default hidden behavior on the sphinx rendered scikit-learn.org. See: https://github.com/scikit-learn/scikit-learn/issues/21755 */display: inline-block !important;position: relative;}#sk-container-id-3 div.sk-text-repr-fallback {display: none;}</style><div id=\"sk-container-id-3\" class=\"sk-top-container\"><div class=\"sk-text-repr-fallback\"><pre>KNeighborsClassifier()</pre><b>In a Jupyter environment, please rerun this cell to show the HTML representation or trust the notebook. <br />On GitHub, the HTML representation is unable to render, please try loading this page with nbviewer.org.</b></div><div class=\"sk-container\" hidden><div class=\"sk-item\"><div class=\"sk-estimator sk-toggleable\"><input class=\"sk-toggleable__control sk-hidden--visually\" id=\"sk-estimator-id-3\" type=\"checkbox\" checked><label for=\"sk-estimator-id-3\" class=\"sk-toggleable__label sk-toggleable__label-arrow\">KNeighborsClassifier</label><div class=\"sk-toggleable__content\"><pre>KNeighborsClassifier()</pre></div></div></div></div></div>"
      ],
      "text/plain": [
       "KNeighborsClassifier()"
      ]
     },
     "execution_count": 86,
     "metadata": {},
     "output_type": "execute_result"
    }
   ],
   "source": [
    "model_knn = KNeighborsClassifier()\n",
    "model_knn.fit(X_train, y_train)"
   ]
  },
  {
   "cell_type": "raw",
   "metadata": {},
   "source": [
    "model_knn.score(X_train, y_train)"
   ]
  },
  {
   "cell_type": "code",
   "execution_count": 94,
   "metadata": {},
   "outputs": [],
   "source": [
    "y_predict_0 = model_knn.predict(X_test)"
   ]
  },
  {
   "cell_type": "code",
   "execution_count": 95,
   "metadata": {},
   "outputs": [
    {
     "name": "stdout",
     "output_type": "stream",
     "text": [
      "Matrice de confusion :\n",
      "\n",
      "[[ 521   81   20    2]\n",
      " [  97  566   42    3]\n",
      " [  33   33 1006   94]\n",
      " [  14   24  181  152]]\n",
      "\n",
      "Le rapport de classificiation :\n",
      "\n",
      "              precision    recall  f1-score   support\n",
      "\n",
      "         0.0       0.78      0.83      0.81       624\n",
      "         1.0       0.80      0.80      0.80       708\n",
      "         2.0       0.81      0.86      0.83      1166\n",
      "         3.0       0.61      0.41      0.49       371\n",
      "\n",
      "    accuracy                           0.78      2869\n",
      "   macro avg       0.75      0.73      0.73      2869\n",
      "weighted avg       0.77      0.78      0.78      2869\n",
      "\n"
     ]
    }
   ],
   "source": [
    "print('Matrice de confusion :\\n')\n",
    "print(confusion_matrix(y_test, y_predict_0))\n",
    "\n",
    "print('\\nLe rapport de classificiation :\\n')\n",
    "print(classification_report(y_test, y_predict_0))"
   ]
  },
  {
   "cell_type": "code",
   "execution_count": 96,
   "metadata": {},
   "outputs": [
    {
     "name": "stdout",
     "output_type": "stream",
     "text": [
      "La précision :78.25026141512723 %\n"
     ]
    }
   ],
   "source": [
    "#model_knn.score()\n",
    "print(\"La précision :\"+str(accuracy_score(y_test, y_predict_0)*100)+' %')"
   ]
  },
  {
   "cell_type": "raw",
   "metadata": {},
   "source": [
    "print('Nombres des valeurs manquantes présentes : \\n' + str(X_knn.isnull().sum()))"
   ]
  },
  {
   "cell_type": "code",
   "execution_count": 98,
   "metadata": {},
   "outputs": [],
   "source": [
    "y_predict = model_knn.predict(df_X_to_predict)"
   ]
  },
  {
   "cell_type": "code",
   "execution_count": 107,
   "metadata": {},
   "outputs": [
    {
     "data": {
      "text/plain": [
       "array([1., 1., 2., 2., 1., 2., 2., 3., 1., 2., 0., 1., 0., 2., 1., 2., 0.,\n",
       "       2., 2.])"
      ]
     },
     "execution_count": 107,
     "metadata": {},
     "output_type": "execute_result"
    }
   ],
   "source": [
    "y_predict"
   ]
  },
  {
   "cell_type": "code",
   "execution_count": 112,
   "metadata": {},
   "outputs": [],
   "source": [
    "y_predict_serie = pd.Series(encoder_label.inverse_transform(np.squeeze(y_predict.astype(int))[:]), index = df_X_to_predict.index)"
   ]
  },
  {
   "cell_type": "code",
   "execution_count": 114,
   "metadata": {},
   "outputs": [
    {
     "name": "stdout",
     "output_type": "stream",
     "text": [
      "Prediction des métiers manquants\n"
     ]
    },
    {
     "data": {
      "text/plain": [
       "346           Data engineer\n",
       "2058          Data engineer\n",
       "2670         Data scientist\n",
       "2899         Data scientist\n",
       "3346          Data engineer\n",
       "4248         Data scientist\n",
       "4290         Data scientist\n",
       "4292    Lead data scientist\n",
       "5425          Data engineer\n",
       "5593         Data scientist\n",
       "5712        Data architecte\n",
       "6024          Data engineer\n",
       "6625        Data architecte\n",
       "7091         Data scientist\n",
       "7228          Data engineer\n",
       "7330         Data scientist\n",
       "9087        Data architecte\n",
       "9427         Data scientist\n",
       "9490         Data scientist\n",
       "dtype: object"
      ]
     },
     "execution_count": 114,
     "metadata": {},
     "output_type": "execute_result"
    }
   ],
   "source": [
    "print(\"Prediction des métiers manquants\")\n",
    "y_predict_serie"
   ]
  },
  {
   "cell_type": "code",
   "execution_count": null,
   "metadata": {},
   "outputs": [],
   "source": []
  }
 ],
 "metadata": {
  "kernelspec": {
   "display_name": "Python 3 (ipykernel)",
   "language": "python",
   "name": "python3"
  },
  "language_info": {
   "codemirror_mode": {
    "name": "ipython",
    "version": 3
   },
   "file_extension": ".py",
   "mimetype": "text/x-python",
   "name": "python",
   "nbconvert_exporter": "python",
   "pygments_lexer": "ipython3",
   "version": "3.9.12"
  }
 },
 "nbformat": 4,
 "nbformat_minor": 2
}
